{
 "cells": [
  {
   "cell_type": "code",
   "execution_count": 1,
   "metadata": {},
   "outputs": [],
   "source": [
    "import kumaon"
   ]
  },
  {
   "cell_type": "code",
   "execution_count": 2,
   "metadata": {},
   "outputs": [],
   "source": [
    "VERSION = \"BASIC_CLEANING\"\n",
    "DATA_MAST́ER_PATH = \"/Users/haresh/Haresh/projects/kumaon/data/data_master.yml\""
   ]
  },
  {
   "cell_type": "markdown",
   "metadata": {},
   "source": [
    "#### If running for the first time pass the arg `write_mode=True` while calling the `kumaon.reader` objects."
   ]
  },
  {
   "cell_type": "code",
   "execution_count": 3,
   "metadata": {},
   "outputs": [
    {
     "name": "stdout",
     "output_type": "stream",
     "text": [
      "/Users/haresh/Haresh/projects/kumaon/data/tanzil/BASIC_CLEANING\n"
     ]
    }
   ],
   "source": [
    "ende = kumaon.readers.ende_ds.EnDe(VERSION, DATA_MAST́ER_PATH, \"ende\")\n",
    "tanzil = kumaon.readers.tanzil_ds.Tanzil(VERSION, DATA_MAST́ER_PATH, \"tanzil\")\n",
    "mrpc = kumaon.readers.mrpc_ds.MRPC(VERSION, DATA_MAST́ER_PATH, \"mrpc\")\n",
    "quora = kumaon.readers.quora_ds.Quora(VERSION, DATA_MAST́ER_PATH, \"quora\")\n",
    "mlpara = kumaon.readers.mlpara_ds.MLPara(VERSION, DATA_MAST́ER_PATH, \"mlpara\")\n",
    "yelp = kumaon.readers.yelp_ds.Yelp(VERSION, DATA_MAST́ER_PATH, \"yelp\")"
   ]
  },
  {
   "cell_type": "code",
   "execution_count": 4,
   "metadata": {},
   "outputs": [
    {
     "name": "stdout",
     "output_type": "stream",
     "text": [
      "EnDe: \n",
      "{'de': 'Steigt Gold auf 10.000 Dollar?', 'de_clean': 'Steigt Gold auf 10.000 Dollar?', 'en': '$10,000 Gold?', 'en_clean': '$10,000 Gold?'}\n",
      "\n",
      "Tanzil: \n",
      "{'en1': 'In the name of Allah , most benevolent , ever-merciful .', 'en1_clean': 'In the name of Allah , most benevolent , ever-merciful .', 'en2': 'Allah - beginning with the name of - the Most Gracious , the Most Merciful .', 'en2_clean': 'Allah - beginning with the name of - the Most Gracious , the Most Merciful .'}\n",
      "\n",
      "MRPC: \n",
      "{'P1': 'Amrozi accused his brother , whom he called \" the witness \" , of deliberately distorting his evidence .', 'P1_clean': 'Amrozi accused his brother , whom he called \" the witness \" , of deliberately distorting his evidence .', 'P2': 'Referring to him as only \" the witness \" , Amrozi accused his brother of deliberately distorting his evidence .', 'P2_clean': 'Referring to him as only \" the witness \" , Amrozi accused his brother of deliberately distorting his evidence .', 'Quality': 1}\n",
      "\n",
      "Quora: \n",
      "{'is_duplicate': 0, 'q1_clean': 'What is the step by step guide to invest in share market in india?', 'q2_clean': 'What is the step by step guide to invest in share market?', 'question1': 'What is the step by step guide to invest in share market in india?', 'question2': 'What is the step by step guide to invest in share market?'}\n",
      "\n",
      "MLPARA: \n",
      "{'P1': 'vast amount', 'P1_clean': 'vast amount', 'P2': 'large quantity', 'P2_clean': 'large quantity', 'S': 5.0}\n",
      "\n",
      "Yelp: \n",
      "{'Sentence': \"Wonderful reuben.  Map shown on Yelp page is incorrect. It is actually a different Hawkins.  I'd recommend a call for directions 412-271-9911.\", 'Sentiment': 2, 'sent_clean': \"Wonderful reuben.  Map shown on Yelp page is incorrect. It is actually a different Hawkins.  I'd recommend a call for directions 412-271-9911.\"}\n"
     ]
    }
   ],
   "source": [
    "print(\n",
    "f\"EnDe: \\n{ende.dataset[0]}\\n\\n\\\n",
    "Tanzil: \\n{tanzil.dataset[0]}\\n\\n\\\n",
    "MRPC: \\n{mrpc.dataset['train'][0]}\\n\\n\\\n",
    "Quora: \\n{quora.dataset['train'][0]}\\n\\n\\\n",
    "MLPARA: \\n{mlpara.dataset[0]}\\n\\n\\\n",
    "Yelp: \\n{yelp.dataset['train'][0]}\"\n",
    ")"
   ]
  }
 ],
 "metadata": {
  "interpreter": {
   "hash": "76ecbf0daec838a2c868076cc29f64227a9f23d39ac002ce15273c4e47fec831"
  },
  "kernelspec": {
   "display_name": "Python 3.8.12 64-bit ('nlp': conda)",
   "language": "python",
   "name": "python3"
  },
  "language_info": {
   "codemirror_mode": {
    "name": "ipython",
    "version": 3
   },
   "file_extension": ".py",
   "mimetype": "text/x-python",
   "name": "python",
   "nbconvert_exporter": "python",
   "pygments_lexer": "ipython3",
   "version": "3.8.12"
  },
  "orig_nbformat": 4
 },
 "nbformat": 4,
 "nbformat_minor": 2
}
