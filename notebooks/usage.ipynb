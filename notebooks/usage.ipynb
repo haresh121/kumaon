{
 "cells": [
  {
   "cell_type": "code",
   "execution_count": 1,
   "metadata": {},
   "outputs": [],
   "source": [
    "import kumaon"
   ]
  },
  {
   "cell_type": "markdown",
   "metadata": {},
   "source": [
    "#### If running for the first time pass the arg `write_mode=True` while calling the `kumaon.reader` objects."
   ]
  },
  {
   "cell_type": "code",
   "execution_count": 2,
   "metadata": {},
   "outputs": [
    {
     "name": "stdout",
     "output_type": "stream",
     "text": [
      "/Users/haresh/Haresh/projects/kumaon/data/tanzil/BASIC_CLEANING\n"
     ]
    }
   ],
   "source": [
    "ende = kumaon.readers.ende_ds.EnDe(\"BASIC_CLEANING\", \"/Users/haresh/Haresh/projects/kumaon/data/data_master.yml\", \"ende\")\n",
    "tanzil = kumaon.readers.tanzil_ds.Tanzil(\"BASIC_CLEANING\", \"/Users/haresh/Haresh/projects/kumaon/data/data_master.yml\", \"tanzil\")"
   ]
  },
  {
   "cell_type": "code",
   "execution_count": 3,
   "metadata": {},
   "outputs": [
    {
     "data": {
      "text/plain": [
       "{'de': 'Steigt Gold auf 10.000 Dollar?',\n",
       " 'de_clean': 'Steigt Gold auf 10.000 Dollar?',\n",
       " 'en': '$10,000 Gold?',\n",
       " 'en_clean': '$10,000 Gold?'}"
      ]
     },
     "execution_count": 3,
     "metadata": {},
     "output_type": "execute_result"
    }
   ],
   "source": [
    "ende.dataset[0]"
   ]
  },
  {
   "cell_type": "code",
   "execution_count": 4,
   "metadata": {},
   "outputs": [
    {
     "data": {
      "text/plain": [
       "{'en1': 'In the name of Allah , most benevolent , ever-merciful .',\n",
       " 'en1_clean': 'In the name of Allah , most benevolent , ever-merciful .',\n",
       " 'en2': 'Allah - beginning with the name of - the Most Gracious , the Most Merciful .',\n",
       " 'en2_clean': 'Allah - beginning with the name of - the Most Gracious , the Most Merciful .'}"
      ]
     },
     "execution_count": 4,
     "metadata": {},
     "output_type": "execute_result"
    }
   ],
   "source": [
    "tanzil.dataset[0]"
   ]
  }
 ],
 "metadata": {
  "interpreter": {
   "hash": "76ecbf0daec838a2c868076cc29f64227a9f23d39ac002ce15273c4e47fec831"
  },
  "kernelspec": {
   "display_name": "Python 3.8.12 64-bit ('nlp': conda)",
   "language": "python",
   "name": "python3"
  },
  "language_info": {
   "codemirror_mode": {
    "name": "ipython",
    "version": 3
   },
   "file_extension": ".py",
   "mimetype": "text/x-python",
   "name": "python",
   "nbconvert_exporter": "python",
   "pygments_lexer": "ipython3",
   "version": "3.8.12"
  },
  "orig_nbformat": 4
 },
 "nbformat": 4,
 "nbformat_minor": 2
}
